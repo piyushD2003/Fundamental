{
  "nbformat": 4,
  "nbformat_minor": 0,
  "metadata": {
    "colab": {
      "provenance": [],
      "authorship_tag": "ABX9TyPXJJUi9fVh/YKlgj03hFjE",
      "include_colab_link": true
    },
    "kernelspec": {
      "name": "python3",
      "display_name": "Python 3"
    },
    "language_info": {
      "name": "python"
    }
  },
  "cells": [
    {
      "cell_type": "markdown",
      "metadata": {
        "id": "view-in-github",
        "colab_type": "text"
      },
      "source": [
        "<a href=\"https://colab.research.google.com/github/piyushD2003/Fundamental/blob/main/YBIProjectInternship2.ipynb\" target=\"_parent\"><img src=\"https://colab.research.google.com/assets/colab-badge.svg\" alt=\"Open In Colab\"/></a>"
      ]
    },
    {
      "cell_type": "markdown",
      "source": [
        "# **Hand Written DIgit Prediction - Classification Analysis**"
      ],
      "metadata": {
        "id": "VGDbciKK10AG"
      }
    },
    {
      "cell_type": "markdown",
      "source": [
        "## **Import Library**"
      ],
      "metadata": {
        "id": "1mQAIo1a92fa"
      }
    },
    {
      "cell_type": "code",
      "source": [
        "import pandas as pd\n",
        "import numpy as np\n",
        "import matplotlib.pyplot as plt"
      ],
      "metadata": {
        "id": "5KXyZgl-9Zkz"
      },
      "execution_count": 57,
      "outputs": []
    },
    {
      "cell_type": "markdown",
      "source": [
        "## **Import Data**"
      ],
      "metadata": {
        "id": "EsxnRhBkXi8m"
      }
    },
    {
      "cell_type": "markdown",
      "source": [],
      "metadata": {
        "id": "JFjsoY7T2Djr"
      }
    },
    {
      "cell_type": "code",
      "source": [
        "from sklearn.datasets import load_digits"
      ],
      "metadata": {
        "id": "V0raL99RvUHz"
      },
      "execution_count": 58,
      "outputs": []
    },
    {
      "cell_type": "code",
      "source": [
        "df = load_digits()"
      ],
      "metadata": {
        "id": "zVoTrer0vkoB"
      },
      "execution_count": 59,
      "outputs": []
    },
    {
      "cell_type": "code",
      "source": [
        "_, axes = plt.subplots(nrows = 1, ncols =4, figsize = (10,3))\n",
        "for ax, image, label in zip(axes,df.images, df.target):\n",
        "  ax.set_axis_off()\n",
        "  ax.imshow(image, cmap = plt.cm.gray_r, interpolation = \"nearest\")\n",
        "  ax.set_title(\"Traning: %i\" % label)"
      ],
      "metadata": {
        "id": "6WCuGZn7_8-e",
        "colab": {
          "base_uri": "https://localhost:8080/",
          "height": 223
        },
        "outputId": "b203d5ba-6e99-4daa-ce1a-39d16064bbf5"
      },
      "execution_count": 60,
      "outputs": [
        {
          "output_type": "display_data",
          "data": {
            "text/plain": [
              "<Figure size 1000x300 with 4 Axes>"
            ],
            "image/png": "[encoded data removed]"
          },
          "metadata": {}
        }
      ]
    },
    {
      "cell_type": "code",
      "source": [],
      "metadata": {
        "id": "QMwllQy0v1-o"
      },
      "execution_count": 60,
      "outputs": []
    },
    {
      "cell_type": "markdown",
      "source": [
        "## **Data Preprocessing**"
      ],
      "metadata": {
        "id": "T_EimvfRXjJM"
      }
    },
    {
      "cell_type": "code",
      "source": [
        "df.images.shape"
      ],
      "metadata": {
        "id": "8KmXuoTmoQwZ",
        "colab": {
          "base_uri": "https://localhost:8080/"
        },
        "outputId": "06033239-0a32-4f92-dcd0-adc6b377d898"
      },
      "execution_count": 61,
      "outputs": [
        {
          "output_type": "execute_result",
          "data": {
            "text/plain": [
              "(1797, 8, 8)"
            ]
          },
          "metadata": {},
          "execution_count": 61
        }
      ]
    },
    {
      "cell_type": "code",
      "source": [
        "df.images[0]"
      ],
      "metadata": {
        "id": "1C1ckKR8pOpw",
        "colab": {
          "base_uri": "https://localhost:8080/"
        },
        "outputId": "6a5527af-5a77-4f1a-d8b5-008d488ad4cc"
      },
      "execution_count": 62,
      "outputs": [
        {
          "output_type": "execute_result",
          "data": {
            "text/plain": [
              "array([[ 0.,  0.,  5., 13.,  9.,  1.,  0.,  0.],\n",
              "       [ 0.,  0., 13., 15., 10., 15.,  5.,  0.],\n",
              "       [ 0.,  3., 15.,  2.,  0., 11.,  8.,  0.],\n",
              "       [ 0.,  4., 12.,  0.,  0.,  8.,  8.,  0.],\n",
              "       [ 0.,  5.,  8.,  0.,  0.,  9.,  8.,  0.],\n",
              "       [ 0.,  4., 11.,  0.,  1., 12.,  7.,  0.],\n",
              "       [ 0.,  2., 14.,  5., 10., 12.,  0.,  0.],\n",
              "       [ 0.,  0.,  6., 13., 10.,  0.,  0.,  0.]])"
            ]
          },
          "metadata": {},
          "execution_count": 62
        }
      ]
    },
    {
      "cell_type": "code",
      "source": [
        "df.images[0].shape"
      ],
      "metadata": {
        "id": "ptkUCRLAphck",
        "colab": {
          "base_uri": "https://localhost:8080/"
        },
        "outputId": "d9bc8b82-b165-4a27-d196-f41aa7db0fb7"
      },
      "execution_count": 63,
      "outputs": [
        {
          "output_type": "execute_result",
          "data": {
            "text/plain": [
              "(8, 8)"
            ]
          },
          "metadata": {},
          "execution_count": 63
        }
      ]
    },
    {
      "cell_type": "code",
      "source": [
        "len(df.images)"
      ],
      "metadata": {
        "id": "iO_CEC-PpqtE",
        "colab": {
          "base_uri": "https://localhost:8080/"
        },
        "outputId": "ed61ee6e-185e-4f22-b9bd-32558e07f6fb"
      },
      "execution_count": 64,
      "outputs": [
        {
          "output_type": "execute_result",
          "data": {
            "text/plain": [
              "1797"
            ]
          },
          "metadata": {},
          "execution_count": 64
        }
      ]
    },
    {
      "cell_type": "code",
      "source": [
        "n_samples = len(df.images)\n",
        "data = df.images.reshape((n_samples, -1))"
      ],
      "metadata": {
        "id": "9VRaP31MptD0"
      },
      "execution_count": 65,
      "outputs": []
    },
    {
      "cell_type": "code",
      "source": [
        "data[0].shape"
      ],
      "metadata": {
        "id": "nXJ2SdVXqE4E",
        "colab": {
          "base_uri": "https://localhost:8080/"
        },
        "outputId": "e35b332f-42dd-4dc5-bf19-1f3f82a42fc9"
      },
      "execution_count": 66,
      "outputs": [
        {
          "output_type": "execute_result",
          "data": {
            "text/plain": [
              "(64,)"
            ]
          },
          "metadata": {},
          "execution_count": 66
        }
      ]
    },
    {
      "cell_type": "code",
      "source": [
        "data.shape"
      ],
      "metadata": {
        "colab": {
          "base_uri": "https://localhost:8080/"
        },
        "id": "t38TYGc5yeaV",
        "outputId": "57ed2307-db39-4240-c63c-fb84a5aeb16a"
      },
      "execution_count": 67,
      "outputs": [
        {
          "output_type": "execute_result",
          "data": {
            "text/plain": [
              "(1797, 64)"
            ]
          },
          "metadata": {},
          "execution_count": 67
        }
      ]
    },
    {
      "cell_type": "markdown",
      "source": [
        "## **Scaling Image Data**"
      ],
      "metadata": {
        "id": "xg2NERykXjmt"
      }
    },
    {
      "cell_type": "code",
      "source": [
        "data.min()"
      ],
      "metadata": {
        "id": "GwX490yVqMh1",
        "colab": {
          "base_uri": "https://localhost:8080/"
        },
        "outputId": "a015c5ad-c8b8-4860-bd39-bf38d9b7430a"
      },
      "execution_count": 68,
      "outputs": [
        {
          "output_type": "execute_result",
          "data": {
            "text/plain": [
              "0.0"
            ]
          },
          "metadata": {},
          "execution_count": 68
        }
      ]
    },
    {
      "cell_type": "code",
      "source": [
        "data.max()"
      ],
      "metadata": {
        "id": "2Zf4jz0KsIPz",
        "colab": {
          "base_uri": "https://localhost:8080/"
        },
        "outputId": "3cf4917e-1786-4f08-d7a0-516f24834e2e"
      },
      "execution_count": 69,
      "outputs": [
        {
          "output_type": "execute_result",
          "data": {
            "text/plain": [
              "16.0"
            ]
          },
          "metadata": {},
          "execution_count": 69
        }
      ]
    },
    {
      "cell_type": "code",
      "source": [
        "data = data/16"
      ],
      "metadata": {
        "id": "vWAOhdbsyuti"
      },
      "execution_count": 70,
      "outputs": []
    },
    {
      "cell_type": "code",
      "source": [
        "data.min()"
      ],
      "metadata": {
        "colab": {
          "base_uri": "https://localhost:8080/"
        },
        "id": "AvkEZBg_yvsx",
        "outputId": "3917e61c-b30c-4832-876e-4cba41287879"
      },
      "execution_count": 71,
      "outputs": [
        {
          "output_type": "execute_result",
          "data": {
            "text/plain": [
              "0.0"
            ]
          },
          "metadata": {},
          "execution_count": 71
        }
      ]
    },
    {
      "cell_type": "code",
      "source": [
        "data.max()"
      ],
      "metadata": {
        "colab": {
          "base_uri": "https://localhost:8080/"
        },
        "id": "NZ2SOVeTyvYB",
        "outputId": "b1cb303c-67aa-48d9-e427-f98a34f893ea"
      },
      "execution_count": 72,
      "outputs": [
        {
          "output_type": "execute_result",
          "data": {
            "text/plain": [
              "1.0"
            ]
          },
          "metadata": {},
          "execution_count": 72
        }
      ]
    },
    {
      "cell_type": "code",
      "source": [
        "data[0]"
      ],
      "metadata": {
        "colab": {
          "base_uri": "https://localhost:8080/"
        },
        "id": "acxHjw5gy-z5",
        "outputId": "72a0d93b-f572-4a71-9517-f573bff4ad7b"
      },
      "execution_count": 73,
      "outputs": [
        {
          "output_type": "execute_result",
          "data": {
            "text/plain": [
              "array([0.    , 0.    , 0.3125, 0.8125, 0.5625, 0.0625, 0.    , 0.    ,\n",
              "       0.    , 0.    , 0.8125, 0.9375, 0.625 , 0.9375, 0.3125, 0.    ,\n",
              "       0.    , 0.1875, 0.9375, 0.125 , 0.    , 0.6875, 0.5   , 0.    ,\n",
              "       0.    , 0.25  , 0.75  , 0.    , 0.    , 0.5   , 0.5   , 0.    ,\n",
              "       0.    , 0.3125, 0.5   , 0.    , 0.    , 0.5625, 0.5   , 0.    ,\n",
              "       0.    , 0.25  , 0.6875, 0.    , 0.0625, 0.75  , 0.4375, 0.    ,\n",
              "       0.    , 0.125 , 0.875 , 0.3125, 0.625 , 0.75  , 0.    , 0.    ,\n",
              "       0.    , 0.    , 0.375 , 0.8125, 0.625 , 0.    , 0.    , 0.    ])"
            ]
          },
          "metadata": {},
          "execution_count": 73
        }
      ]
    },
    {
      "cell_type": "markdown",
      "source": [
        "## **Train Test Split**"
      ],
      "metadata": {
        "id": "epxiYtFGZ3j-"
      }
    },
    {
      "cell_type": "code",
      "source": [
        "from sklearn.model_selection import train_test_split"
      ],
      "metadata": {
        "id": "4Q7ja8V0tiN0"
      },
      "execution_count": 74,
      "outputs": []
    },
    {
      "cell_type": "code",
      "source": [
        "X_train, X_test, y_train, y_test = train_test_split(data, df.target, test_size = 0.3)"
      ],
      "metadata": {
        "id": "Kvb_y2XFtiSS"
      },
      "execution_count": 75,
      "outputs": []
    },
    {
      "cell_type": "code",
      "source": [
        "X_train.shape, X_test.shape, y_train.shape, y_test.shape"
      ],
      "metadata": {
        "colab": {
          "base_uri": "https://localhost:8080/"
        },
        "id": "hl_LVRtQtiV5",
        "outputId": "e1c75cf0-a11f-42d1-9d4b-c82956342a24"
      },
      "execution_count": 76,
      "outputs": [
        {
          "output_type": "execute_result",
          "data": {
            "text/plain": [
              "((1257, 64), (540, 64), (1257,), (540,))"
            ]
          },
          "metadata": {},
          "execution_count": 76
        }
      ]
    },
    {
      "cell_type": "markdown",
      "source": [
        "## **Ramdom Forest Modele**"
      ],
      "metadata": {
        "id": "LvJDS7x1Z90m"
      }
    },
    {
      "cell_type": "code",
      "source": [
        "from sklearn.ensemble import RandomForestClassifier"
      ],
      "metadata": {
        "id": "w0gL0tvptiZW"
      },
      "execution_count": 77,
      "outputs": []
    },
    {
      "cell_type": "code",
      "source": [
        "rf = RandomForestClassifier()"
      ],
      "metadata": {
        "id": "DgA7brGCtibk"
      },
      "execution_count": 78,
      "outputs": []
    },
    {
      "cell_type": "code",
      "source": [
        "rf.fit(X_train, y_train)"
      ],
      "metadata": {
        "id": "1WX3023vtiel",
        "colab": {
          "base_uri": "https://localhost:8080/",
          "height": 75
        },
        "outputId": "5e884110-2cf0-4af4-d5dd-a496f0fde123"
      },
      "execution_count": 79,
      "outputs": [
        {
          "output_type": "execute_result",
          "data": {
            "text/plain": [
              "RandomForestClassifier()"
            ],
            "text/html": [
              "<style>#sk-container-id-2 {color: black;background-color: white;}#sk-container-id-2 pre{padding: 0;}#sk-container-id-2 div.sk-toggleable {background-color: white;}#sk-container-id-2 label.sk-toggleable__label {cursor: pointer;display: block;width: 100%;margin-bottom: 0;padding: 0.3em;box-sizing: border-box;text-align: center;}#sk-container-id-2 label.sk-toggleable__label-arrow:before {content: \"▸\";float: left;margin-right: 0.25em;color: #696969;}#sk-container-id-2 label.sk-toggleable__label-arrow:hover:before {color: black;}#sk-container-id-2 div.sk-estimator:hover label.sk-toggleable__label-arrow:before {color: black;}#sk-container-id-2 div.sk-toggleable__content {max-height: 0;max-width: 0;overflow: hidden;text-align: left;background-color: #f0f8ff;}#sk-container-id-2 div.sk-toggleable__content pre {margin: 0.2em;color: black;border-radius: 0.25em;background-color: #f0f8ff;}#sk-container-id-2 input.sk-toggleable__control:checked~div.sk-toggleable__content {max-height: 200px;max-width: 100%;overflow: auto;}#sk-container-id-2 input.sk-toggleable__control:checked~label.sk-toggleable__label-arrow:before {content: \"▾\";}#sk-container-id-2 div.sk-estimator input.sk-toggleable__control:checked~label.sk-toggleable__label {background-color: #d4ebff;}#sk-container-id-2 div.sk-label input.sk-toggleable__control:checked~label.sk-toggleable__label {background-color: #d4ebff;}#sk-container-id-2 input.sk-hidden--visually {border: 0;clip: rect(1px 1px 1px 1px);clip: rect(1px, 1px, 1px, 1px);height: 1px;margin: -1px;overflow: hidden;padding: 0;position: absolute;width: 1px;}#sk-container-id-2 div.sk-estimator {font-family: monospace;background-color: #f0f8ff;border: 1px dotted black;border-radius: 0.25em;box-sizing: border-box;margin-bottom: 0.5em;}#sk-container-id-2 div.sk-estimator:hover {background-color: #d4ebff;}#sk-container-id-2 div.sk-parallel-item::after {content: \"\";width: 100%;border-bottom: 1px solid gray;flex-grow: 1;}#sk-container-id-2 div.sk-label:hover label.sk-toggleable__label {background-color: #d4ebff;}#sk-container-id-2 div.sk-serial::before {content: \"\";position: absolute;border-left: 1px solid gray;box-sizing: border-box;top: 0;bottom: 0;left: 50%;z-index: 0;}#sk-container-id-2 div.sk-serial {display: flex;flex-direction: column;align-items: center;background-color: white;padding-right: 0.2em;padding-left: 0.2em;position: relative;}#sk-container-id-2 div.sk-item {position: relative;z-index: 1;}#sk-container-id-2 div.sk-parallel {display: flex;align-items: stretch;justify-content: center;background-color: white;position: relative;}#sk-container-id-2 div.sk-item::before, #sk-container-id-2 div.sk-parallel-item::before {content: \"\";position: absolute;border-left: 1px solid gray;box-sizing: border-box;top: 0;bottom: 0;left: 50%;z-index: -1;}#sk-container-id-2 div.sk-parallel-item {display: flex;flex-direction: column;z-index: 1;position: relative;background-color: white;}#sk-container-id-2 div.sk-parallel-item:first-child::after {align-self: flex-end;width: 50%;}#sk-container-id-2 div.sk-parallel-item:last-child::after {align-self: flex-start;width: 50%;}#sk-container-id-2 div.sk-parallel-item:only-child::after {width: 0;}#sk-container-id-2 div.sk-dashed-wrapped {border: 1px dashed gray;margin: 0 0.4em 0.5em 0.4em;box-sizing: border-box;padding-bottom: 0.4em;background-color: white;}#sk-container-id-2 div.sk-label label {font-family: monospace;font-weight: bold;display: inline-block;line-height: 1.2em;}#sk-container-id-2 div.sk-label-container {text-align: center;}#sk-container-id-2 div.sk-container {/* jupyter's `normalize.less` sets `[hidden] { display: none; }` but bootstrap.min.css set `[hidden] { display: none !important; }` so we also need the `!important` here to be able to override the default hidden behavior on the sphinx rendered scikit-learn.org. See: https://github.com/scikit-learn/scikit-learn/issues/21755 */display: inline-block !important;position: relative;}#sk-container-id-2 div.sk-text-repr-fallback {display: none;}</style><div id=\"sk-container-id-2\" class=\"sk-top-container\"><div class=\"sk-text-repr-fallback\"><pre>RandomForestClassifier()</pre><b>In a Jupyter environment, please rerun this cell to show the HTML representation or trust the notebook. <br />On GitHub, the HTML representation is unable to render, please try loading this page with nbviewer.org.</b></div><div class=\"sk-container\" hidden><div class=\"sk-item\"><div class=\"sk-estimator sk-toggleable\"><input class=\"sk-toggleable__control sk-hidden--visually\" id=\"sk-estimator-id-2\" type=\"checkbox\" checked><label for=\"sk-estimator-id-2\" class=\"sk-toggleable__label sk-toggleable__label-arrow\">RandomForestClassifier</label><div class=\"sk-toggleable__content\"><pre>RandomForestClassifier()</pre></div></div></div></div></div>"
            ]
          },
          "metadata": {},
          "execution_count": 79
        }
      ]
    },
    {
      "cell_type": "markdown",
      "source": [
        "## **Prediction**"
      ],
      "metadata": {
        "id": "4KR8MwpFb62r"
      }
    },
    {
      "cell_type": "code",
      "source": [
        "y_pred = rf.predict(X_test)"
      ],
      "metadata": {
        "id": "Yl8nPOuaAuG1"
      },
      "execution_count": 80,
      "outputs": []
    },
    {
      "cell_type": "code",
      "source": [
        "y_pred"
      ],
      "metadata": {
        "id": "lvP2sTxdAuM6",
        "colab": {
          "base_uri": "https://localhost:8080/"
        },
        "outputId": "a1faeef0-c2cf-4557-bfa5-717345c65359"
      },
      "execution_count": 81,
      "outputs": [
        {
          "output_type": "execute_result",
          "data": {
            "text/plain": [
              "array([9, 8, 3, 6, 6, 2, 3, 3, 6, 3, 0, 6, 6, 6, 8, 3, 4, 0, 2, 5, 3, 8,\n",
              "       7, 1, 4, 7, 1, 7, 4, 9, 5, 0, 0, 3, 8, 2, 9, 9, 2, 5, 6, 9, 9, 3,\n",
              "       1, 8, 3, 4, 3, 0, 3, 9, 3, 9, 2, 3, 8, 2, 9, 9, 0, 7, 6, 6, 3, 5,\n",
              "       5, 7, 5, 2, 1, 8, 3, 7, 2, 8, 1, 5, 9, 9, 6, 3, 7, 3, 0, 2, 1, 7,\n",
              "       6, 6, 0, 3, 0, 9, 3, 0, 1, 8, 8, 6, 6, 8, 9, 3, 3, 8, 2, 6, 1, 7,\n",
              "       8, 0, 4, 6, 3, 6, 0, 8, 7, 5, 9, 2, 7, 6, 8, 1, 8, 7, 7, 6, 9, 8,\n",
              "       5, 0, 6, 8, 6, 6, 6, 4, 3, 1, 0, 7, 3, 6, 5, 0, 9, 6, 2, 8, 9, 4,\n",
              "       9, 1, 1, 5, 7, 5, 3, 1, 3, 2, 0, 1, 2, 5, 9, 7, 8, 4, 4, 1, 2, 9,\n",
              "       1, 4, 0, 5, 7, 4, 3, 8, 0, 4, 0, 4, 3, 1, 1, 7, 7, 6, 2, 7, 9, 6,\n",
              "       1, 7, 1, 0, 8, 5, 4, 7, 0, 8, 0, 8, 8, 5, 9, 1, 5, 7, 2, 4, 5, 0,\n",
              "       6, 5, 0, 6, 0, 1, 9, 8, 2, 9, 0, 2, 5, 2, 0, 6, 3, 1, 0, 2, 9, 1,\n",
              "       7, 1, 4, 1, 4, 4, 0, 8, 0, 8, 8, 3, 6, 4, 5, 1, 8, 2, 3, 3, 8, 3,\n",
              "       9, 4, 4, 5, 8, 7, 6, 7, 6, 4, 6, 6, 3, 2, 5, 9, 8, 3, 4, 8, 5, 7,\n",
              "       0, 6, 4, 6, 4, 0, 5, 9, 4, 2, 7, 8, 6, 3, 5, 1, 1, 1, 7, 6, 5, 1,\n",
              "       1, 1, 0, 4, 3, 8, 7, 3, 1, 5, 2, 5, 7, 6, 2, 2, 9, 3, 3, 3, 1, 5,\n",
              "       0, 8, 5, 8, 5, 5, 4, 0, 7, 8, 2, 0, 7, 0, 5, 4, 3, 1, 9, 6, 8, 9,\n",
              "       4, 9, 8, 4, 0, 9, 2, 1, 8, 1, 0, 4, 9, 1, 8, 4, 3, 7, 8, 1, 1, 4,\n",
              "       3, 4, 8, 1, 6, 1, 5, 3, 2, 3, 7, 3, 5, 8, 8, 4, 9, 7, 7, 8, 0, 5,\n",
              "       0, 0, 0, 7, 8, 7, 7, 8, 6, 0, 0, 0, 3, 0, 5, 7, 9, 5, 1, 5, 3, 2,\n",
              "       7, 8, 6, 4, 1, 5, 8, 9, 3, 3, 9, 8, 4, 6, 5, 1, 5, 2, 8, 4, 7, 3,\n",
              "       7, 7, 8, 7, 4, 3, 4, 0, 7, 2, 4, 6, 7, 3, 8, 0, 0, 7, 0, 1, 8, 9,\n",
              "       9, 4, 1, 4, 5, 8, 6, 9, 7, 9, 1, 4, 0, 3, 0, 4, 2, 4, 6, 2, 0, 8,\n",
              "       5, 9, 6, 1, 9, 3, 9, 3, 4, 1, 9, 1, 0, 5, 4, 0, 8, 3, 7, 8, 4, 5,\n",
              "       4, 6, 7, 8, 9, 5, 8, 0, 3, 1, 8, 2, 4, 1, 3, 6, 7, 4, 8, 4, 5, 1,\n",
              "       6, 1, 2, 7, 9, 0, 0, 8, 2, 7, 8, 9])"
            ]
          },
          "metadata": {},
          "execution_count": 81
        }
      ]
    },
    {
      "cell_type": "markdown",
      "source": [
        "## **Model Evaluation**"
      ],
      "metadata": {
        "id": "s1TSU3ULakVl"
      }
    },
    {
      "cell_type": "code",
      "source": [
        "from sklearn.metrics import confusion_matrix, classification_report"
      ],
      "metadata": {
        "id": "CCOeIXd8AuRZ"
      },
      "execution_count": 82,
      "outputs": []
    },
    {
      "cell_type": "code",
      "source": [
        "confusion_matrix(y_test, y_pred)"
      ],
      "metadata": {
        "colab": {
          "base_uri": "https://localhost:8080/"
        },
        "id": "8ZDdF-wWAuUR",
        "outputId": "168d827d-4d2b-4126-9b10-95d171c4f354"
      },
      "execution_count": 83,
      "outputs": [
        {
          "output_type": "execute_result",
          "data": {
            "text/plain": [
              "array([[58,  0,  0,  0,  1,  0,  0,  0,  0,  0],\n",
              "       [ 0, 55,  0,  0,  0,  0,  0,  0,  0,  0],\n",
              "       [ 1,  0, 38,  0,  0,  0,  0,  0,  0,  0],\n",
              "       [ 0,  0,  0, 59,  0,  2,  0,  1,  0,  0],\n",
              "       [ 0,  0,  0,  0, 51,  0,  0,  0,  0,  0],\n",
              "       [ 0,  0,  0,  0,  1, 44,  0,  0,  0,  1],\n",
              "       [ 0,  0,  0,  0,  0,  1, 52,  0,  0,  0],\n",
              "       [ 0,  0,  0,  0,  0,  0,  0, 53,  0,  1],\n",
              "       [ 0,  1,  0,  0,  1,  0,  0,  0, 66,  1],\n",
              "       [ 0,  0,  0,  1,  0,  2,  0,  1,  1, 47]])"
            ]
          },
          "metadata": {},
          "execution_count": 83
        }
      ]
    },
    {
      "cell_type": "code",
      "source": [
        "print(classification_report(y_test, y_pred))"
      ],
      "metadata": {
        "colab": {
          "base_uri": "https://localhost:8080/"
        },
        "id": "YQCFyFBaAuXp",
        "outputId": "69edfb05-408f-4d23-9d0c-ae77923187d0"
      },
      "execution_count": 84,
      "outputs": [
        {
          "output_type": "stream",
          "name": "stdout",
          "text": [
            "              precision    recall  f1-score   support\n",
            "\n",
            "           0       0.98      0.98      0.98        59\n",
            "           1       0.98      1.00      0.99        55\n",
            "           2       1.00      0.97      0.99        39\n",
            "           3       0.98      0.95      0.97        62\n",
            "           4       0.94      1.00      0.97        51\n",
            "           5       0.90      0.96      0.93        46\n",
            "           6       1.00      0.98      0.99        53\n",
            "           7       0.96      0.98      0.97        54\n",
            "           8       0.99      0.96      0.97        69\n",
            "           9       0.94      0.90      0.92        52\n",
            "\n",
            "    accuracy                           0.97       540\n",
            "   macro avg       0.97      0.97      0.97       540\n",
            "weighted avg       0.97      0.97      0.97       540\n",
            "\n"
          ]
        }
      ]
    }
  ]
}